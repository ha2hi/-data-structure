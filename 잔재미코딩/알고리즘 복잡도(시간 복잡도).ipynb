{
 "cells": [
  {
   "cell_type": "markdown",
   "id": "immediate-glossary",
   "metadata": {},
   "source": [
    "### 알고리즘 성능 표기법\n",
    "- Big O(빅-오) 표기법 : O(N)\n",
    "    - 알고리즘 최악의 실행 시간을 표기\n",
    "    - 아무리 최악의 상황이라도, 이정도의 성능은 보장한다는 의미이기 때문\n",
    "- O(1) < O(logn) < O(n) < O(nlogn) < O(n^2) < O(2^n) < O(n!)\n",
    "    "
   ]
  },
  {
   "cell_type": "code",
   "execution_count": 3,
   "id": "extensive-ordinance",
   "metadata": {},
   "outputs": [],
   "source": [
    "# 연습1 : 1부터 n까지의 합을 구하는 알고리즘 작성해보기\n",
    "# 알고리즘 1 : 1부터 n까지의 합을 구하는 알고리즘1\n",
    "def sum_all(n):\n",
    "    sum = 0\n",
    "    for i in range(n+1):\n",
    "        sum += i\n",
    "    return sum"
   ]
  },
  {
   "cell_type": "code",
   "execution_count": 5,
   "id": "common-technique",
   "metadata": {},
   "outputs": [
    {
     "data": {
      "text/plain": [
       "5050"
      ]
     },
     "execution_count": 5,
     "metadata": {},
     "output_type": "execute_result"
    }
   ],
   "source": [
    "sum_all(100)# 입력 n에 따라 덧셈을 n번 해야됨(반복문)\n",
    "# O(n)"
   ]
  },
  {
   "cell_type": "code",
   "execution_count": null,
   "id": "stable-notification",
   "metadata": {},
   "outputs": [],
   "source": []
  },
  {
   "cell_type": "code",
   "execution_count": 8,
   "id": "generous-encyclopedia",
   "metadata": {},
   "outputs": [],
   "source": [
    "# 연습2 : 1부터 n까지의 합을 구하는 알고리즘2\n",
    "def sum_all(n):\n",
    "    return int((n * (n+1) / 2))"
   ]
  },
  {
   "cell_type": "code",
   "execution_count": 11,
   "id": "clinical-sauce",
   "metadata": {},
   "outputs": [
    {
     "data": {
      "text/plain": [
       "5050"
      ]
     },
     "execution_count": 11,
     "metadata": {},
     "output_type": "execute_result"
    }
   ],
   "source": [
    "sum_all(100) # 입력 n이 어떻든 간에, 곱셈/덧셈/나눗셈 하면됨(반복문 없음)\n",
    "# O(1)"
   ]
  },
  {
   "cell_type": "code",
   "execution_count": null,
   "id": "positive-species",
   "metadata": {},
   "outputs": [],
   "source": [
    "# 시간복잡도"
   ]
  }
 ],
 "metadata": {
  "kernelspec": {
   "display_name": "Python 3",
   "language": "python",
   "name": "python3"
  },
  "language_info": {
   "codemirror_mode": {
    "name": "ipython",
    "version": 3
   },
   "file_extension": ".py",
   "mimetype": "text/x-python",
   "name": "python",
   "nbconvert_exporter": "python",
   "pygments_lexer": "ipython3",
   "version": "3.7.10"
  }
 },
 "nbformat": 4,
 "nbformat_minor": 5
}

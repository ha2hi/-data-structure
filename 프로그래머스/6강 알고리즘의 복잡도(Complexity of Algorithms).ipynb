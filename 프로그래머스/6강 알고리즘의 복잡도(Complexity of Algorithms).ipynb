{
 "cells": [
  {
   "cell_type": "markdown",
   "id": "excessive-alpha",
   "metadata": {},
   "source": [
    "### 알고리즘의 복잡도\n",
    "- 시간 복잡도\n",
    "    - 문제의 크기와 이를 해결하는데 걸리는 시간 사이의 관계\n",
    "- 공간 복잡도\n",
    "    - 문제의 크기와 이를 해결하는데 필요한 메모리 공간 사이의 관계\n",
    "  \n",
    "- Big-O Notation\n",
    "     - 어떤 함수의 증가 양상을 다른 함수와의 비교로 표현\n",
    "     - 계수는 그다지 중요하지 않음\n",
    "- 선형 시간 알고리즘 - O(n)\n",
    "    - 선형 탐색\n",
    "- 로그 시간 알고리즘 - O(logn)\n",
    "    - 크기 순으로 정렬된 수에서 특정 값을 찾기 위해(이진 탐색)\n",
    "- 이차 시간 알고리즘 - O(n^2)\n",
    "    - 삽입 정렬 : 하나하나 비교해서 정렬\n",
    "- 병합 정렬 - O(nlogn)\n",
    "    - 정렬할 데이터를 반씩 나누어 각각을 정렬시킨다."
   ]
  },
  {
   "cell_type": "code",
   "execution_count": null,
   "id": "found-pleasure",
   "metadata": {},
   "outputs": [],
   "source": []
  }
 ],
 "metadata": {
  "kernelspec": {
   "display_name": "Python 3",
   "language": "python",
   "name": "python3"
  },
  "language_info": {
   "codemirror_mode": {
    "name": "ipython",
    "version": 3
   },
   "file_extension": ".py",
   "mimetype": "text/x-python",
   "name": "python",
   "nbconvert_exporter": "python",
   "pygments_lexer": "ipython3",
   "version": "3.7.10"
  }
 },
 "nbformat": 4,
 "nbformat_minor": 5
}

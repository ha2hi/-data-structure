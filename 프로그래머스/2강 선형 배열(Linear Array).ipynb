{
 "cells": [
  {
   "cell_type": "code",
   "execution_count": 2,
   "id": "warming-dietary",
   "metadata": {},
   "outputs": [
    {
     "name": "stdout",
     "output_type": "stream",
     "text": [
      "['Bob', 'Cat', 'Spam', 'Programmers']\n"
     ]
    }
   ],
   "source": [
    "# 선형 배열(Linear Arrays)\n",
    "# 배열 - 원소들을 순서대로 늘어놓은 것\n",
    "L = ['Bob', 'Cat', 'Spam', 'Programmers']\n",
    "print(L)"
   ]
  },
  {
   "cell_type": "code",
   "execution_count": 3,
   "id": "sustainable-graduate",
   "metadata": {},
   "outputs": [
    {
     "data": {
      "text/plain": [
       "'Cat'"
      ]
     },
     "execution_count": 3,
     "metadata": {},
     "output_type": "execute_result"
    }
   ],
   "source": [
    "L[1]"
   ]
  },
  {
   "cell_type": "code",
   "execution_count": 4,
   "id": "formal-links",
   "metadata": {
    "scrolled": true
   },
   "outputs": [
    {
     "data": {
      "text/plain": [
       "'Spam'"
      ]
     },
     "execution_count": 4,
     "metadata": {},
     "output_type": "execute_result"
    }
   ],
   "source": [
    "L[-2]"
   ]
  },
  {
   "cell_type": "code",
   "execution_count": null,
   "id": "urban-montana",
   "metadata": {},
   "outputs": [],
   "source": []
  },
  {
   "cell_type": "markdown",
   "id": "greater-carol",
   "metadata": {},
   "source": [
    "# 리스트(배열)연산 1\n",
    "- 앞, 뒤\n",
    "1. 원소 덧붙이기\n",
    "2. 끝에서 꺼내기\n",
    "순식간(빠르게) 할 수 있는 일\n",
    "- 리스트의 길이와 무관(상수 시간)  \n",
    "O(1)"
   ]
  },
  {
   "cell_type": "code",
   "execution_count": 6,
   "id": "cordless-recovery",
   "metadata": {},
   "outputs": [],
   "source": [
    "# 원소를 덧붙이는 연산\n",
    "L.append('New')"
   ]
  },
  {
   "cell_type": "code",
   "execution_count": 7,
   "id": "liquid-plenty",
   "metadata": {},
   "outputs": [
    {
     "data": {
      "text/plain": [
       "['Bob', 'Cat', 'Spam', 'Programmers', 'New']"
      ]
     },
     "execution_count": 7,
     "metadata": {},
     "output_type": "execute_result"
    }
   ],
   "source": [
    "L"
   ]
  },
  {
   "cell_type": "code",
   "execution_count": 8,
   "id": "duplicate-cabin",
   "metadata": {},
   "outputs": [
    {
     "data": {
      "text/plain": [
       "['Bob', 'Cat', 'Spam', 'Programmers']"
      ]
     },
     "execution_count": 8,
     "metadata": {},
     "output_type": "execute_result"
    }
   ],
   "source": [
    "# 끝내에서 하느이 원소를 꺼냄\n",
    "L.pop()\n",
    "L"
   ]
  },
  {
   "cell_type": "code",
   "execution_count": null,
   "id": "patent-treat",
   "metadata": {},
   "outputs": [],
   "source": []
  },
  {
   "cell_type": "markdown",
   "id": "political-pavilion",
   "metadata": {},
   "source": [
    "# 리스트(배열)연산 1\n",
    "- 중간\n",
    "1. 원소 덧붙이기\n",
    "2. 끝에서 꺼내기\n",
    "- 리스트의 길이가 길면 오래 걸리는 일  \n",
    "- 리스트의 길이에 비례(선형 시간)  \n",
    "O(n)"
   ]
  },
  {
   "cell_type": "code",
   "execution_count": 10,
   "id": "quarterly-repository",
   "metadata": {},
   "outputs": [
    {
     "data": {
      "text/plain": [
       "[20, 37, 58, 65, 72, 91]"
      ]
     },
     "execution_count": 10,
     "metadata": {},
     "output_type": "execute_result"
    }
   ],
   "source": [
    "L = [20, 37, 58, 72, 91]\n",
    "L.insert(3, 65)\n",
    "L"
   ]
  },
  {
   "cell_type": "code",
   "execution_count": 11,
   "id": "distinguished-robert",
   "metadata": {},
   "outputs": [
    {
     "data": {
      "text/plain": [
       "[20, 37, 65, 72, 91]"
      ]
     },
     "execution_count": 11,
     "metadata": {},
     "output_type": "execute_result"
    }
   ],
   "source": [
    "del(L[2]) # 리스트 L에서 index 2를 삭제해라\n",
    "L"
   ]
  },
  {
   "cell_type": "code",
   "execution_count": 12,
   "id": "latest-discrimination",
   "metadata": {},
   "outputs": [
    {
     "data": {
      "text/plain": [
       "[20, 37, 65, 72, 91]"
      ]
     },
     "execution_count": 12,
     "metadata": {},
     "output_type": "execute_result"
    }
   ],
   "source": [
    "L = [20, 37, 58, 72, 91]\n",
    "L.insert(3, 65)\n",
    "L.pop(2)\n",
    "L"
   ]
  },
  {
   "cell_type": "code",
   "execution_count": null,
   "id": "bulgarian-variance",
   "metadata": {},
   "outputs": [],
   "source": []
  },
  {
   "cell_type": "code",
   "execution_count": 14,
   "id": "following-cooking",
   "metadata": {},
   "outputs": [
    {
     "data": {
      "text/plain": [
       "2"
      ]
     },
     "execution_count": 14,
     "metadata": {},
     "output_type": "execute_result"
    }
   ],
   "source": [
    "L = ['Bob', 'Cat', 'Spam', 'Programmers']\n",
    "L.index('Spam')"
   ]
  },
  {
   "cell_type": "code",
   "execution_count": null,
   "id": "scientific-compression",
   "metadata": {},
   "outputs": [],
   "source": []
  },
  {
   "cell_type": "code",
   "execution_count": 35,
   "id": "miniature-kuwait",
   "metadata": {},
   "outputs": [],
   "source": [
    "def solution(L, x):\n",
    "    L.append(x)\n",
    "    L.sort()\n",
    "    return L"
   ]
  },
  {
   "cell_type": "code",
   "execution_count": 36,
   "id": "tough-absorption",
   "metadata": {},
   "outputs": [
    {
     "data": {
      "text/plain": [
       "[20, 37, 58, 65, 72, 91]"
      ]
     },
     "execution_count": 36,
     "metadata": {},
     "output_type": "execute_result"
    }
   ],
   "source": [
    "L = [20, 37, 58, 72, 91]\n",
    "x = 65\n",
    "solution(L, x)"
   ]
  },
  {
   "cell_type": "code",
   "execution_count": 28,
   "id": "atlantic-composite",
   "metadata": {},
   "outputs": [],
   "source": [
    "answer = []"
   ]
  },
  {
   "cell_type": "code",
   "execution_count": 31,
   "id": "abandoned-raise",
   "metadata": {},
   "outputs": [],
   "source": [
    "answer.insert(0,L)"
   ]
  },
  {
   "cell_type": "code",
   "execution_count": 39,
   "id": "electronic-toner",
   "metadata": {},
   "outputs": [],
   "source": [
    "def solution(L, x):\n",
    "    answer = []\n",
    "    answer = L\n",
    "    answer.append(x)\n",
    "    answer.sort()\n",
    "    return answer"
   ]
  },
  {
   "cell_type": "code",
   "execution_count": 56,
   "id": "initial-macintosh",
   "metadata": {},
   "outputs": [],
   "source": [
    "L = [20, 37, 58, 72, 91]\n",
    "x = 65"
   ]
  },
  {
   "cell_type": "code",
   "execution_count": null,
   "id": "statewide-bibliography",
   "metadata": {},
   "outputs": [],
   "source": []
  },
  {
   "cell_type": "code",
   "execution_count": 79,
   "id": "arranged-subcommittee",
   "metadata": {
    "scrolled": true
   },
   "outputs": [
    {
     "data": {
      "text/plain": [
       "0"
      ]
     },
     "execution_count": 79,
     "metadata": {},
     "output_type": "execute_result"
    }
   ],
   "source": [
    "L = [20, 37, 58, 72, 91,20]\n",
    "L.index(20)"
   ]
  },
  {
   "cell_type": "code",
   "execution_count": null,
   "id": "freelance-castle",
   "metadata": {},
   "outputs": [],
   "source": []
  }
 ],
 "metadata": {
  "kernelspec": {
   "display_name": "Python 3",
   "language": "python",
   "name": "python3"
  },
  "language_info": {
   "codemirror_mode": {
    "name": "ipython",
    "version": 3
   },
   "file_extension": ".py",
   "mimetype": "text/x-python",
   "name": "python",
   "nbconvert_exporter": "python",
   "pygments_lexer": "ipython3",
   "version": "3.7.10"
  }
 },
 "nbformat": 4,
 "nbformat_minor": 5
}

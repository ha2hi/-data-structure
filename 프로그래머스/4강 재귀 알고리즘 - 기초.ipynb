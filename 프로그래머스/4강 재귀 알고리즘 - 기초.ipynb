{
 "cells": [
  {
   "cell_type": "markdown",
   "id": "coastal-riverside",
   "metadata": {},
   "source": [
    "### 재귀알고리즘\n",
    "- 재귀함수\n",
    "    - 하나의 함수에서 자신을 다시 호출하여 작업을 수행하는 것\n",
    "    \n",
    "- 이진 트리\n",
    "    - 왼쪽 서브트리의 원소들은 모두 작거나 같을 것\n",
    "    - 오른쪽 서브트리의 원소들은 모두 클 것\n",
    "    - 10을 찾으시오"
   ]
  },
  {
   "cell_type": "code",
   "execution_count": 17,
   "id": "cooked-turner",
   "metadata": {},
   "outputs": [],
   "source": [
    "# 예 - 자연수의 합 구하기\n",
    "# 문제 : 1부터 n까지의 모든 자연수의 합을 구하시오\n",
    "def sum(n):\n",
    "    if n <= 1:\n",
    "        return n\n",
    "    else:\n",
    "        return n + sum(n-1)"
   ]
  },
  {
   "cell_type": "code",
   "execution_count": 37,
   "id": "preliminary-relevance",
   "metadata": {},
   "outputs": [
    {
     "name": "stdout",
     "output_type": "stream",
     "text": [
      "Number : 10\n",
      "55\n"
     ]
    }
   ],
   "source": [
    "a = int(input('Number : '))\n",
    "print(sum(a))"
   ]
  },
  {
   "cell_type": "code",
   "execution_count": null,
   "id": "stylish-underwear",
   "metadata": {},
   "outputs": [],
   "source": []
  },
  {
   "cell_type": "code",
   "execution_count": null,
   "id": "forced-blink",
   "metadata": {},
   "outputs": [],
   "source": [
    "# 1+n까지 더하기\n",
    "def sum(n):\n",
    "    return n*(n+1)//2"
   ]
  },
  {
   "cell_type": "code",
   "execution_count": null,
   "id": "historical-settlement",
   "metadata": {},
   "outputs": [],
   "source": []
  },
  {
   "cell_type": "code",
   "execution_count": null,
   "id": "consecutive-queens",
   "metadata": {},
   "outputs": [],
   "source": [
    "# 재귀 알고리즘 추가 예제\n",
    "# n!\n",
    "def what(n):\n",
    "    if n <= 1:\n",
    "        return 1\n",
    "    else:\n",
    "        return n * what(n-1)"
   ]
  },
  {
   "cell_type": "code",
   "execution_count": null,
   "id": "surface-wireless",
   "metadata": {},
   "outputs": [],
   "source": []
  },
  {
   "cell_type": "code",
   "execution_count": null,
   "id": "front-dispatch",
   "metadata": {},
   "outputs": [],
   "source": [
    "# 연습문제 - 피보나치 순열\n",
    "# F0 = 0\n",
    "# F1 = 1\n",
    "# Fn = Fn-1 + Fn-2, n>=2\n"
   ]
  },
  {
   "cell_type": "code",
   "execution_count": 91,
   "id": "invisible-floor",
   "metadata": {},
   "outputs": [],
   "source": [
    "def solution(x):\n",
    "    answer = 0\n",
    "    if x <= 0:\n",
    "        return 0\n",
    "    \n",
    "    elif x == 1:\n",
    "        return 1\n",
    "    \n",
    "    elif x >= 2:\n",
    "        answer += solution(x-1) \n",
    "        answer += solution(x-2)\n",
    "    \n",
    "    return answer\n"
   ]
  },
  {
   "cell_type": "code",
   "execution_count": 93,
   "id": "cognitive-replica",
   "metadata": {},
   "outputs": [
    {
     "data": {
      "text/plain": [
       "2"
      ]
     },
     "execution_count": 93,
     "metadata": {},
     "output_type": "execute_result"
    }
   ],
   "source": [
    "x = 3\n",
    "solution(x)"
   ]
  },
  {
   "cell_type": "code",
   "execution_count": null,
   "id": "tested-fellow",
   "metadata": {},
   "outputs": [],
   "source": []
  },
  {
   "cell_type": "code",
   "execution_count": 97,
   "id": "compact-happiness",
   "metadata": {},
   "outputs": [],
   "source": [
    "def solution(x):\n",
    "    if x <= 0:\n",
    "        return 0\n",
    "    elif x == 1:\n",
    "        return 1\n",
    "    elif x>=2:\n",
    "        return solution(x-1) + solution(x-2)"
   ]
  },
  {
   "cell_type": "code",
   "execution_count": 102,
   "id": "infinite-austria",
   "metadata": {},
   "outputs": [
    {
     "data": {
      "text/plain": [
       "8"
      ]
     },
     "execution_count": 102,
     "metadata": {},
     "output_type": "execute_result"
    }
   ],
   "source": [
    "x = 6\n",
    "solution(x)"
   ]
  },
  {
   "cell_type": "code",
   "execution_count": null,
   "id": "blocked-collective",
   "metadata": {},
   "outputs": [],
   "source": []
  }
 ],
 "metadata": {
  "kernelspec": {
   "display_name": "Python 3",
   "language": "python",
   "name": "python3"
  },
  "language_info": {
   "codemirror_mode": {
    "name": "ipython",
    "version": 3
   },
   "file_extension": ".py",
   "mimetype": "text/x-python",
   "name": "python",
   "nbconvert_exporter": "python",
   "pygments_lexer": "ipython3",
   "version": "3.7.10"
  }
 },
 "nbformat": 4,
 "nbformat_minor": 5
}

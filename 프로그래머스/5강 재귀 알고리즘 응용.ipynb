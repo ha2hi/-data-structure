{
 "cells": [
  {
   "cell_type": "markdown",
   "id": "super-interstate",
   "metadata": {},
   "source": [
    "### 재귀함수\n",
    "- 하나의 함수에서 자신을 다시 호출하여 작업을 수행하는 것\n",
    "- nCm = n! / m! (n-m)!"
   ]
  },
  {
   "cell_type": "code",
   "execution_count": 1,
   "id": "signed-religious",
   "metadata": {},
   "outputs": [],
   "source": [
    "# combination 구하기\n",
    "from math import factorial as f\n",
    "\n",
    "def combi(n,m):\n",
    "    return f(n) / (f(m) * f(n-m))\n",
    "\n"
   ]
  },
  {
   "cell_type": "code",
   "execution_count": 3,
   "id": "injured-credits",
   "metadata": {},
   "outputs": [
    {
     "data": {
      "text/plain": [
       "10.0"
      ]
     },
     "execution_count": 3,
     "metadata": {},
     "output_type": "execute_result"
    }
   ],
   "source": [
    "n = 5\n",
    "m = 3\n",
    "combi(n,m)"
   ]
  },
  {
   "cell_type": "code",
   "execution_count": null,
   "id": "extended-somerset",
   "metadata": {},
   "outputs": [],
   "source": []
  },
  {
   "cell_type": "code",
   "execution_count": null,
   "id": "processed-witch",
   "metadata": {},
   "outputs": [],
   "source": [
    "# 재귀 알고리즘의 유용성\n",
    "# 문제 : 하노이의 탑"
   ]
  },
  {
   "cell_type": "code",
   "execution_count": null,
   "id": "cordless-multimedia",
   "metadata": {},
   "outputs": [],
   "source": []
  },
  {
   "cell_type": "code",
   "execution_count": 4,
   "id": "atlantic-server",
   "metadata": {},
   "outputs": [],
   "source": [
    "# 피보나치 수열\n",
    "def fibo(n):\n",
    "    if n<=1:\n",
    "        return n\n",
    "    return fibo(n-1) + fibo(n-2)"
   ]
  },
  {
   "cell_type": "code",
   "execution_count": null,
   "id": "distinct-perspective",
   "metadata": {},
   "outputs": [],
   "source": []
  },
  {
   "cell_type": "code",
   "execution_count": 15,
   "id": "lonely-update",
   "metadata": {},
   "outputs": [],
   "source": [
    "#연습문제\n",
    "# 리스트 L 과, 그 안에서 찾으려 하는 원소 x 가 인자로 주어지고, 또한 탐색의 대상이 되는 리스트 내에서의 범위 인덱스가 l 부터 u 까지로 (인자로) 정해질 때, x 와 같은 값을 가지는 원소의 인덱스를 리턴하는 함수 solution() 을 완성하세요. 만약 리스트 L 안에 x 와 같은 값을 가지는 원소가 존재하지 않는 경우에는 -1 을 리턴합니다. 리스트 L 은 자연수 원소들로 이루어져 있으며, 크기 순으로 정렬되어 있다고 가정합니다. 또한, 동일한 원소는 두 번 이상 나타나지 않습니다.\n",
    "\n",
    "# 인덱스 범위를 나타내는 l 과 u 가 인자로 주어지는 이유는, 이 함수를 재귀적인 방법으로 구현하기 위함입니다. 빈 칸에 알맞은 내용을 채워서 재귀 함수인 solution() 을 완성하세요.\n",
    "\n",
    "# 예를 들어,\n",
    "# L = [2, 3, 5, 6, 9, 11, 15]\n",
    "# x = 6\n",
    "# l = 0\n",
    "# u = 6\n",
    "# 의 인자들이 주어지면, L[3] == 6 이므로 3 을 리턴해야 합니다.\n",
    "\n",
    "# 또 다른 예로,\n",
    "# L = [2, 5, 7, 9, 11]\n",
    "# x = 4\n",
    "# l = 0\n",
    "# u = 4\n",
    "# 로 주어지면, 리스트 L 내에 4 의 원소가 존재하지 않으므로 -1 을 리턴해야 합니다."
   ]
  },
  {
   "cell_type": "code",
   "execution_count": null,
   "id": "representative-belfast",
   "metadata": {},
   "outputs": [],
   "source": []
  }
 ],
 "metadata": {
  "kernelspec": {
   "display_name": "Python 3",
   "language": "python",
   "name": "python3"
  },
  "language_info": {
   "codemirror_mode": {
    "name": "ipython",
    "version": 3
   },
   "file_extension": ".py",
   "mimetype": "text/x-python",
   "name": "python",
   "nbconvert_exporter": "python",
   "pygments_lexer": "ipython3",
   "version": "3.7.10"
  }
 },
 "nbformat": 4,
 "nbformat_minor": 5
}

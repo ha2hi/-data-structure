{
 "cells": [
  {
   "cell_type": "markdown",
   "id": "disciplinary-terminal",
   "metadata": {},
   "source": [
    "### 배열 - 정렬과 탐색\n",
    "- 리스트의 정렬\n",
    "1. sorted()\n",
    "    - 내장함수\n",
    "    - 정렬된 새로운 리스트를 얻어냄\n",
    "2. sort()\n",
    "    - 리스트의 메서드\n",
    "    - 해당 리스트를 정렬함"
   ]
  },
  {
   "cell_type": "code",
   "execution_count": 3,
   "id": "mobile-wildlife",
   "metadata": {},
   "outputs": [
    {
     "data": {
      "text/plain": [
       "[2, 3, 6, 7, 8, 9, 10]"
      ]
     },
     "execution_count": 3,
     "metadata": {},
     "output_type": "execute_result"
    }
   ],
   "source": [
    "L = [3,8,2,7,6,10,9]\n",
    "L2 = sorted(L)\n",
    "L2"
   ]
  },
  {
   "cell_type": "code",
   "execution_count": 4,
   "id": "horizontal-raleigh",
   "metadata": {
    "scrolled": true
   },
   "outputs": [
    {
     "data": {
      "text/plain": [
       "[3, 8, 2, 7, 6, 10, 9]"
      ]
     },
     "execution_count": 4,
     "metadata": {},
     "output_type": "execute_result"
    }
   ],
   "source": [
    "L"
   ]
  },
  {
   "cell_type": "code",
   "execution_count": null,
   "id": "irish-hydrogen",
   "metadata": {},
   "outputs": [],
   "source": []
  },
  {
   "cell_type": "code",
   "execution_count": 5,
   "id": "virgin-creek",
   "metadata": {
    "scrolled": true
   },
   "outputs": [
    {
     "data": {
      "text/plain": [
       "[2, 3, 6, 7, 8, 9, 10]"
      ]
     },
     "execution_count": 5,
     "metadata": {},
     "output_type": "execute_result"
    }
   ],
   "source": [
    "L.sort()\n",
    "L"
   ]
  },
  {
   "cell_type": "markdown",
   "id": "coral-input",
   "metadata": {},
   "source": [
    "- 정렬의 순서를 반대로\n",
    "- reverse = True\n",
    "    - L2 = sorted(L, reverse = True)\n",
    "    - L.sort(reverse=True)"
   ]
  },
  {
   "cell_type": "code",
   "execution_count": null,
   "id": "sexual-institute",
   "metadata": {},
   "outputs": [],
   "source": []
  },
  {
   "cell_type": "markdown",
   "id": "circular-trinity",
   "metadata": {},
   "source": [
    "### 문자열 정렬\n",
    "- 정렬 순서는 알파벳 순서를 따름(문자열 길이가 긴 것이 더 큰 것이 아님)\n",
    "- 문자열 길이 순서로 정렬하려면?\n",
    "    - 정렬에 이용하는 키(key)를 지정"
   ]
  },
  {
   "cell_type": "code",
   "execution_count": 7,
   "id": "closing-soldier",
   "metadata": {},
   "outputs": [
    {
     "data": {
      "text/plain": [
       "['xyz', 'abcd', 'spam']"
      ]
     },
     "execution_count": 7,
     "metadata": {},
     "output_type": "execute_result"
    }
   ],
   "source": [
    "L = ['abcd', 'xyz', 'spam']\n",
    "sorted(L, key=lambda x : len(x))"
   ]
  },
  {
   "cell_type": "code",
   "execution_count": 8,
   "id": "employed-pointer",
   "metadata": {},
   "outputs": [
    {
     "data": {
      "text/plain": [
       "['xyz', 'spam', 'abcd']"
      ]
     },
     "execution_count": 8,
     "metadata": {},
     "output_type": "execute_result"
    }
   ],
   "source": [
    "L = ['spam', 'xyz', 'abcd']\n",
    "sorted(L, key=lambda x : len(x))"
   ]
  },
  {
   "cell_type": "code",
   "execution_count": null,
   "id": "abstract-surname",
   "metadata": {},
   "outputs": [],
   "source": []
  },
  {
   "cell_type": "code",
   "execution_count": 10,
   "id": "million-withdrawal",
   "metadata": {},
   "outputs": [
    {
     "data": {
      "text/plain": [
       "[{'name': 'Jhon', 'score': 83}, {'name': 'Paul', 'score': 92}]"
      ]
     },
     "execution_count": 10,
     "metadata": {},
     "output_type": "execute_result"
    }
   ],
   "source": [
    "# 정렬 - 키를 지정하는 또 다른 예\n",
    "L = [{'name' : 'Jhon', 'score' : 83},\n",
    "     {'name' : 'Paul', 'score' : 92}]\n",
    "sorted(L, key = lambda x : x['name'])"
   ]
  },
  {
   "cell_type": "code",
   "execution_count": 12,
   "id": "modern-slovenia",
   "metadata": {},
   "outputs": [
    {
     "data": {
      "text/plain": [
       "[{'name': 'Paul', 'score': 92}, {'name': 'Jhon', 'score': 83}]"
      ]
     },
     "execution_count": 12,
     "metadata": {},
     "output_type": "execute_result"
    }
   ],
   "source": [
    "sorted(L, key = lambda x : x['score'], reverse = True) # 점수 높은 순으로 정렬"
   ]
  },
  {
   "cell_type": "code",
   "execution_count": null,
   "id": "fewer-dutch",
   "metadata": {},
   "outputs": [],
   "source": []
  },
  {
   "cell_type": "markdown",
   "id": "impaired-alloy",
   "metadata": {},
   "source": [
    "### 탐색 알리고리즘 (1) - 선형탐색(순차탐색)\n",
    "- 앞에서 순차적으로 비교\n",
    "- 리스트의 길이에 비례하는 시간 소요\n",
    "- O(n)\n",
    "- 최악의 경우 : 모든 원소를 다 비교해 봐야된다."
   ]
  },
  {
   "cell_type": "code",
   "execution_count": 31,
   "id": "tribal-royal",
   "metadata": {},
   "outputs": [],
   "source": [
    "def linear_search(L, x):\n",
    "    i = 0\n",
    "    while i < len(L) and L[i] != x:\n",
    "        i += 1\n",
    "    if i < len(L):\n",
    "        return i\n",
    "    else:\n",
    "        return -1"
   ]
  },
  {
   "cell_type": "code",
   "execution_count": 32,
   "id": "toxic-division",
   "metadata": {},
   "outputs": [
    {
     "data": {
      "text/plain": [
       "2"
      ]
     },
     "execution_count": 32,
     "metadata": {},
     "output_type": "execute_result"
    }
   ],
   "source": [
    "L = [2,3,1,4]\n",
    "x = 1\n",
    "linear_search(L, x)"
   ]
  },
  {
   "cell_type": "code",
   "execution_count": 34,
   "id": "parallel-laptop",
   "metadata": {
    "scrolled": true
   },
   "outputs": [
    {
     "data": {
      "text/plain": [
       "4"
      ]
     },
     "execution_count": 34,
     "metadata": {},
     "output_type": "execute_result"
    }
   ],
   "source": [
    "L = [3,8,2,7,6,10,9]\n",
    "x = 6\n",
    "linear_search(L ,x)"
   ]
  },
  {
   "cell_type": "code",
   "execution_count": 35,
   "id": "north-bolivia",
   "metadata": {},
   "outputs": [
    {
     "data": {
      "text/plain": [
       "-1"
      ]
     },
     "execution_count": 35,
     "metadata": {},
     "output_type": "execute_result"
    }
   ],
   "source": [
    "x = -1\n",
    "linear_search(L ,x)"
   ]
  },
  {
   "cell_type": "markdown",
   "id": "mechanical-torture",
   "metadata": {},
   "source": [
    "### 탐색 알고리즘(2) - 이진탐색(BInary Search)\n",
    "- 탐색하려는 리스트가 이미 정렬되어 있는 경우에만 적용 가능\n",
    "- 한 번 비교가 일어날 때마다 리스트 반씩 줄임\n",
    "- O(log n)"
   ]
  },
  {
   "cell_type": "code",
   "execution_count": null,
   "id": "optimum-privilege",
   "metadata": {},
   "outputs": [],
   "source": [
    "# lower = 0\n",
    "# upper = len(L) - 1\n",
    "# idx = -1\n",
    "# while lower <= upper:\n",
    "#     middle = (lower + upper) // 2\n",
    "#     if L[middle] == target:\n",
    "#         ,,,\n",
    "#     elif L[middle] < target:\n",
    "#         lower = ...\n",
    "#     else:\n",
    "#         upper = ..."
   ]
  }
 ],
 "metadata": {
  "kernelspec": {
   "display_name": "Python 3",
   "language": "python",
   "name": "python3"
  },
  "language_info": {
   "codemirror_mode": {
    "name": "ipython",
    "version": 3
   },
   "file_extension": ".py",
   "mimetype": "text/x-python",
   "name": "python",
   "nbconvert_exporter": "python",
   "pygments_lexer": "ipython3",
   "version": "3.7.10"
  }
 },
 "nbformat": 4,
 "nbformat_minor": 5
}
